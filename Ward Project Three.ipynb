{
 "cells": [
  {
   "cell_type": "markdown",
   "metadata": {},
   "source": [
    "# Project Three\n",
    "\n",
    "Here's what you're going to do.\n",
    "\n",
    "## Part One\n",
    "\n",
    "You're going to run each of the functions in the package.\n",
    "\n",
    "(15 pts each Error 1, Error 2, Error 3)"
   ]
  },
  {
   "cell_type": "markdown",
   "metadata": {},
   "source": [
    "1) Error 1 - paste in the traceback. \n",
    "\n",
    "\n"
   ]
  },
  {
   "cell_type": "markdown",
   "metadata": {},
   "source": [
    "AssertionError                            Traceback (most recent call last)\n",
    "<ipython-input-25-02ebf90524b8> in <module>()\n",
    "----> 1 wardpythonpackage.sequence_reader(\"../data/full_plethodon_alignment.phy\")\n",
    "\n",
    "~/WardPythonPackage/wardpythonpackage/sequence_reader.py in sequence_reader(filepath)\n",
    "      4 def sequence_reader(filepath):\n",
    "      5 \n",
    "----> 6     assert os.path.exists(filepath)\n",
    "      7 \n",
    "      8     sequence_set = dendropy.DNACharacterMatrix.get(\n",
    "\n",
    "AssertionError: \n"
   ]
  },
  {
   "cell_type": "markdown",
   "metadata": {},
   "source": [
    "2) Error 1 - What type of error is this? In your own words, what went wrong?"
   ]
  },
  {
   "cell_type": "markdown",
   "metadata": {},
   "source": [
    "It is an assertion error, which means that the assert statement that we wrote in did not have all of its parameters met and therefore stops the function from running. "
   ]
  },
  {
   "cell_type": "markdown",
   "metadata": {},
   "source": [
    "3) Error 1 - Resolve this. In your own words, _how_ did you resolve the error? "
   ]
  },
  {
   "cell_type": "markdown",
   "metadata": {},
   "source": [
    "The full_plethodon_alignment might not have been in phylip format so I chose the plethodon.phy data set instead and changed the file path to be '../CompBio2018.git/data/plethodon.phy'"
   ]
  },
  {
   "cell_type": "markdown",
   "metadata": {},
   "source": [
    "No Points) If you googled the error, paste in a link to a website you found helpful."
   ]
  },
  {
   "cell_type": "markdown",
   "metadata": {},
   "source": [
    "5) Error 2 - paste in the traceback. \n",
    "\n",
    "\n"
   ]
  },
  {
   "cell_type": "markdown",
   "metadata": {},
   "source": [
    "TypeError                                 Traceback (most recent call last)\n",
    "<ipython-input-8-2bf4c64cf47e> in <module>()\n",
    "----> 1 wardpythonpackage.sequence_cleanup('plethodon.phy', 'outfile', 'Plethodon_amplus', 'cytb')\n",
    "\n",
    "~/WardPythonPackage/wardpythonpackage/sequence_cleanup.py in sequence_cleanup(sequence_set, out_file, taxon, gene)\n",
    "      5 #Check taxon\n",
    "      6 \n",
    "----> 7     assert sequence_set[taxon]\n",
    "      8 \n",
    "      9     my_taxon_sequence = sequence_set[taxon].symbols_as_string()\n",
    "\n",
    "TypeError: string indices must be integers"
   ]
  },
  {
   "cell_type": "markdown",
   "metadata": {},
   "source": [
    "6) Error 2 - What type of error is this? In your own words, what went wrong?"
   ]
  },
  {
   "cell_type": "markdown",
   "metadata": {},
   "source": [
    "It is a type error, which occurs whenever the function gets applied to an object that is not the type that it wants. This type error wanted the index to be made of integers, even though that is not the input we had available for the function."
   ]
  },
  {
   "cell_type": "markdown",
   "metadata": {},
   "source": [
    "7) Error 2 - Resolve this. In your own words, _how_ did you resolve the error? "
   ]
  },
  {
   "cell_type": "markdown",
   "metadata": {},
   "source": [
    "To resolve this issue, I removed the code about the gene, and made the function have only 3 input arguments rather than the 4 we originally had. I also put \"../CompBio2018.git/data_output/plethodon_output\" as the output instead of leaving it as 'outfile' like it was originally."
   ]
  },
  {
   "cell_type": "markdown",
   "metadata": {},
   "source": [
    "No Points) If you googled the error, paste in a link to a website you found helpful."
   ]
  },
  {
   "cell_type": "markdown",
   "metadata": {},
   "source": [
    "8) Error 3 - paste in the traceback. \n"
   ]
  },
  {
   "cell_type": "markdown",
   "metadata": {},
   "source": [
    "ValueError                                Traceback (most recent call last)\n",
    "<ipython-input-4-9d3e66ad57e2> in <module>()\n",
    "----> 1 wardpythonpackage.sequence_blaster('../CompBio2018.git/data_output/plethodon_output', '../CompBio2018.git/data_output/blaster_output')\n",
    "\n",
    "~/WardPythonPackage/wardpythonpackage/sequence_blaster.py in sequence_blaster(fasta_path, results_path)\n",
    "      5 \n",
    "      6     record = SeqIO.read(fasta_path, format=\"fasta\")\n",
    "----> 7     result_path = NCBIWWW.qblast(\"blastn\", \"nt\", record.format(\"fasta\"))\n",
    "      8 \n",
    "      9     save_file = open(results_path, \"w\")\n",
    "\n",
    "/opt/tljh/user/lib/python3.6/site-packages/Bio/Blast/NCBIWWW.py in qblast(program, database, sequence, url_base, auto_format, composition_based_statistics, db_genetic_code, endpoints, entrez_query, expect, filter, gapcosts, genetic_code, hitlist_size, i_thresh, layout, lcase_mask, matrix_name, nucl_penalty, nucl_reward, other_advanced, perc_ident, phi_pattern, query_file, query_believe_defline, query_from, query_to, searchsp_eff, service, threshold, ungapped_alignment, word_size, alignments, alignment_view, descriptions, entrez_links_new_window, expect_low, expect_high, format_entrez_query, format_object, format_type, ncbi_gi, results_file, show_overview, megablast, template_type, template_length)\n",
    "    139     # Format the \"Get\" command, which gets the formatted results from qblast\n",
    "    140     # Parameters taken from http://www.ncbi.nlm.nih.gov/BLAST/Doc/node6.html on 9 July 2007\n",
    "--> 141     rid, rtoe = _parse_qblast_ref_page(handle)\n",
    "    142     parameters = [\n",
    "    143         ('ALIGNMENTS', alignments),\n",
    "\n",
    "/opt/tljh/user/lib/python3.6/site-packages/Bio/Blast/NCBIWWW.py in _parse_qblast_ref_page(handle)\n",
    "    249             msg = msg.split(\"</p>\", 1)[0].split(\"\\n\", 1)[0].strip()\n",
    "    250             if msg:\n",
    "--> 251                 raise ValueError(\"Error message from NCBI: %s\" % msg)\n",
    "    252         # Generic search based on the way the error messages start:\n",
    "    253         i = s.find('Message ID#')\n",
    "\n",
    "ValueError: Error message from NCBI: Message ID#69 Error: Error occurred while trying to set up a Blast Object from CGI context: CFastaReader: Near line 2, there's a line that doesn't look like plausible data, but it's not marked as defline or comment.\n"
   ]
  },
  {
   "cell_type": "markdown",
   "metadata": {},
   "source": [
    "9) Error 3 - What type of error is this? In your own words, what went wrong?"
   ]
  },
  {
   "cell_type": "markdown",
   "metadata": {},
   "source": [
    "According to what I read on a forum that had a similar error, it looks like this error occurs from trying to BLAST a file that is too large. "
   ]
  },
  {
   "cell_type": "markdown",
   "metadata": {},
   "source": [
    "10) Error 2 - Resolve this. In your own words, _how_ did you resolve the error? "
   ]
  },
  {
   "cell_type": "markdown",
   "metadata": {},
   "source": [
    "I fixed the error by going back to re-modify the sequence_cleanup function, changing the \"my_taxon_sequence = int(gene[0]) : int(gene[1])\" to \"my_taxon_sequence = my_taxon_sequence[gene_start:gene_end]\" and making the function take 5 arguments instead of the 4 it started with or the 3 we modified it to take in the previous error resolution. "
   ]
  },
  {
   "cell_type": "markdown",
   "metadata": {},
   "source": [
    "11) Google one of errors. What search phrase actually got you helpful results?"
   ]
  },
  {
   "cell_type": "markdown",
   "metadata": {},
   "source": [
    "I just pasted \"ValueError: Error message from NCBI: Message ID#69 Error: Error occurred while trying to set up a Blast Object from CGI context: CFastaReader: Near line 2, there's a line that doesn't look like plausible data, but it's not marked as defline or comment.\" from the last error, which led me to this website (https://www.researchgate.net/post/I_got_an_error_message_ID68_Error_while_trying_to_run_blast_with_multiple_sequences_What_does_it_mean_and_what_do_I_do_to_get_results) that seemed to be discussing this issue. "
   ]
  },
  {
   "cell_type": "markdown",
   "metadata": {},
   "source": [
    "## Part Two \n",
    "\n",
    "You're going to add one function to the package. "
   ]
  },
  {
   "cell_type": "markdown",
   "metadata": {},
   "source": [
    "1) (15pts) The function should be in its own file"
   ]
  },
  {
   "cell_type": "markdown",
   "metadata": {},
   "source": [
    "2) (15 pts) You should write a docstring so I know what the function does"
   ]
  },
  {
   "cell_type": "markdown",
   "metadata": {},
   "source": [
    "3) (15 pts) The function should contain either a precondition, or a postcondition"
   ]
  },
  {
   "cell_type": "markdown",
   "metadata": {},
   "source": [
    "## Part Three\n",
    "(10 pts)\n",
    "Add all your files, commit the files, and push them to your GitHub. Also include a copy of this notebook in the package. "
   ]
  },
  {
   "cell_type": "code",
   "execution_count": null,
   "metadata": {},
   "outputs": [],
   "source": []
  }
 ],
 "metadata": {
  "kernelspec": {
   "display_name": "Python 3",
   "language": "python",
   "name": "python3"
  },
  "language_info": {
   "codemirror_mode": {
    "name": "ipython",
    "version": 3
   },
   "file_extension": ".py",
   "mimetype": "text/x-python",
   "name": "python",
   "nbconvert_exporter": "python",
   "pygments_lexer": "ipython3",
   "version": "3.6.6"
  },
  "latex_envs": {
   "LaTeX_envs_menu_present": true,
   "autoclose": false,
   "autocomplete": true,
   "bibliofile": "biblio.bib",
   "cite_by": "apalike",
   "current_citInitial": 1,
   "eqLabelWithNumbers": true,
   "eqNumInitial": 1,
   "hotkeys": {
    "equation": "Ctrl-E",
    "itemize": "Ctrl-I"
   },
   "labels_anchors": false,
   "latex_user_defs": false,
   "report_style_numbering": false,
   "user_envs_cfg": false
  },
  "toc": {
   "base_numbering": 1,
   "nav_menu": {},
   "number_sections": true,
   "sideBar": true,
   "skip_h1_title": false,
   "title_cell": "Table of Contents",
   "title_sidebar": "Contents",
   "toc_cell": false,
   "toc_position": {},
   "toc_section_display": true,
   "toc_window_display": false
  }
 },
 "nbformat": 4,
 "nbformat_minor": 2
}
